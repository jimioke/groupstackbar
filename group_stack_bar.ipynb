{
  "nbformat": 4,
  "nbformat_minor": 0,
  "metadata": {
    "colab": {
      "name": "group_stack_bar.ipynb",
      "provenance": [],
      "collapsed_sections": []
    },
    "kernelspec": {
      "name": "python3",
      "display_name": "Python 3"
    }
  },
  "cells": [
    {
      "cell_type": "code",
      "metadata": {
        "id": "L-rZrFaryGiz",
        "colab_type": "code",
        "colab": {
          "base_uri": "https://localhost:8080/",
          "height": 452
        },
        "outputId": "1ea3f6fc-af2d-4c75-cb56-766f88a02fbd"
      },
      "source": [
        "# S/E/I/R : 4 bars in each group\n",
        "# each group is one week\n",
        "# age cat 1 to 5; 5 categories vertically in each bar\n",
        "\n",
        "# csv format input \n",
        "# each row has three keys which together identify the row uniquely (age; week; SEIR)\n",
        "\n",
        "\n",
        "import numpy as np\n",
        "import matplotlib.pyplot as plt\n",
        "import csv\n",
        "\n",
        "\n",
        "\n",
        "\n",
        "# generate dummy data\n",
        "with open('dummy_data.csv','w') as f:\n",
        "    csvwriter = csv.writer(f)\n",
        "    csvwriter.writerow(['Week','State_SEIR','Age_Cat','Value'])\n",
        "    for i in ['Week 1', 'Week 2', 'Week 3']: # 3 weeks\n",
        "        for j in ['S','E','I','R']:\n",
        "            for k in ['Age Cat 1', 'Age Cat 2', 'Age Cat 3', 'Age Cat 4', 'Age Cat 5']:\n",
        "                csvwriter.writerow([i,j,k, int(np.random.rand()*100)])\n",
        "\n",
        "\n",
        "# inputs: \n",
        "vertical_stacking_variable = 'Age_Cat'\n",
        "sorted_order_for_stacking = ['Age Cat 1', 'Age Cat 2', 'Age Cat 3', 'Age Cat 4', 'Age Cat 5']\n",
        "\n",
        "# colormaps \n",
        "# we need 4 colormaps for SEIR\n",
        "c_map_vertical_1 = ['#f7f7f7','#cccccc','#969696','#636363','#252525']\n",
        "c_map_vertical_2 = ['#edf8fb','#b3cde3','#8c96c6','#8856a7','#810f7c']\n",
        "c_map_vertical_3 = ['#fef0d9','#fdcc8a','#fc8d59','#e34a33','#b30000']\n",
        "c_map_vertical_4 = ['#f1eef6','#bdc9e1','#74a9cf','#2b8cbe','#045a8d']\n",
        "\n",
        "\n",
        "# order of plotting- one bar at a time\n",
        "# plot 1 bar for S, then 1 for E and so on\n",
        "# after the above is complete, we do the same for different weeks\n",
        "\n",
        "## \n",
        "width = 2\n",
        "state = 'S'\n",
        "week = 'Week 1'\n",
        "\n",
        "\n",
        "a = [0] * len(sorted_order_for_stacking)\n",
        "for i in range(len(sorted_order_for_stacking)):\n",
        "    with open('dummy_data.csv') as f:\n",
        "        next(f) # skip the first line\n",
        "        for row in f:\n",
        "            listed = row.strip().split(',')\n",
        "            if listed[1] == state and listed[0] == week and listed[2] == sorted_order_for_stacking[i]:\n",
        "                print (listed)\n",
        "                a[i]= (float(listed[3]))\n",
        "print (a)\n",
        "cum_val = [a[0]]\n",
        "for j in range(1,len(a)):\n",
        "    cum_val.append( cum_val[j-1] + a[j] )\n",
        "\n",
        "for i in range(len(sorted_order_for_stacking)-1,-1,-1):\n",
        "    plt.bar(1,height=cum_val[i] , width=width, color=c_map_vertical_1[i])\n",
        "\n",
        "# plt.bar(x1,height=[2,3,4,6] , width=width)\n",
        "\n",
        "plt.show()"
      ],
      "execution_count": 18,
      "outputs": [
        {
          "output_type": "stream",
          "text": [
            "['Week 1', 'S', 'Age Cat 1', '47']\n",
            "['Week 1', 'S', 'Age Cat 2', '50']\n",
            "['Week 1', 'S', 'Age Cat 3', '92']\n",
            "['Week 1', 'S', 'Age Cat 4', '84']\n",
            "['Week 1', 'S', 'Age Cat 5', '50']\n",
            "[47.0, 50.0, 92.0, 84.0, 50.0]\n",
            "1 323.0 #252525\n",
            "1 273.0 #636363\n",
            "1 189.0 #969696\n",
            "1 97.0 #cccccc\n",
            "1 47.0 #f7f7f7\n"
          ],
          "name": "stdout"
        },
        {
          "output_type": "display_data",
          "data": {
            "image/png": "[encoded data removed]",
            "text/plain": [
              "<Figure size 432x288 with 1 Axes>"
            ]
          },
          "metadata": {
            "tags": [],
            "needs_background": "light"
          }
        }
      ]
    },
    {
      "cell_type": "code",
      "metadata": {
        "id": "BS_oKSXg3-IV",
        "colab_type": "code",
        "colab": {}
      },
      "source": [
        ""
      ],
      "execution_count": null,
      "outputs": []
    }
  ]
}