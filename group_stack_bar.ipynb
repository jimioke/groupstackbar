{
  "nbformat": 4,
  "nbformat_minor": 0,
  "metadata": {
    "colab": {
      "name": "group_stack_bar.ipynb",
      "provenance": [],
      "collapsed_sections": []
    },
    "kernelspec": {
      "name": "python3",
      "display_name": "Python 3"
    }
  },
  "cells": [
    {
      "cell_type": "code",
      "metadata": {
        "id": "L-rZrFaryGiz",
        "colab_type": "code",
        "colab": {
          "base_uri": "https://localhost:8080/",
          "height": 265
        },
        "outputId": "ba2f7cfe-779c-45d7-f3d9-b8b6551d2224"
      },
      "source": [
        "# S/E/I/R : 4 bars in each group\n",
        "# each group is one week; 3 weeks\n",
        "# age cat 1 to 5; 5 categories vertically in each bar\n",
        "\n",
        "# csv format input \n",
        "# each row has three keys which together identify the row uniquely (age; week; SEIR)\n",
        "\n",
        "\n",
        "import matplotlib.pyplot as plt\n",
        "import csv\n",
        "import random\n",
        "\n",
        "\n",
        "\n",
        "# generate dummy data\n",
        "with open('dummy_data.csv','w') as f:\n",
        "    csvwriter = csv.writer(f)\n",
        "    csvwriter.writerow(['Week','State_SEIR','Age_Cat','Value'])\n",
        "    for i in ['Week 1', 'Week 2', 'Week 3']: # 3 weeks\n",
        "        for j in ['S','E','I','R']:\n",
        "            for k in ['Age Cat 1', 'Age Cat 2', 'Age Cat 3', 'Age Cat 4', 'Age Cat 5']:\n",
        "                csvwriter.writerow([i,j,k, int(random.random()*100)])\n",
        "\n",
        "\n",
        "# inputs: \n",
        "vertical_stacking_variable = 'Age_Cat'\n",
        "sorted_order_for_stacking = ['Age Cat 1', 'Age Cat 2', 'Age Cat 3', 'Age Cat 4', 'Age Cat 5']\n",
        "\n",
        "# colormaps \n",
        "# we need 4 colormaps for SEIR\n",
        "c_map_vertical = {}\n",
        "c_map_vertical['S'] = ['#f7f7f7','#cccccc','#969696','#636363','#252525']\n",
        "c_map_vertical['E'] = ['#edf8fb','#b3cde3','#8c96c6','#8856a7','#810f7c']\n",
        "c_map_vertical['I'] = ['#fef0d9','#fdcc8a','#fc8d59','#e34a33','#b30000']\n",
        "c_map_vertical['R']= ['#f1eef6','#bdc9e1','#74a9cf','#2b8cbe','#045a8d']\n",
        "\n",
        "\n",
        "## \n",
        "width = 0.5\n",
        "state = 'S'\n",
        "week = 'Week 1'\n",
        "first_offset = 2\n",
        "\n",
        "state_num = -1\n",
        "for state in ['S','E','I','R']:\n",
        "    state_num += 1\n",
        "\n",
        "    week_num = -1\n",
        "    for week in ['Week 1', 'Week 2','Week 3']:\n",
        "        week_num += 1\n",
        "\n",
        "        a = [0] * len(sorted_order_for_stacking)\n",
        "        for i in range(len(sorted_order_for_stacking)):\n",
        "            with open('dummy_data.csv') as f:\n",
        "                next(f) # skip the first line\n",
        "                for row in f:\n",
        "                    listed = row.strip().split(',')\n",
        "                    if listed[1] == state and listed[0] == week and listed[2] == sorted_order_for_stacking[i]:\n",
        "                        # print (listed)\n",
        "                        a[i]= (float(listed[3]))\n",
        "        \n",
        "        # get cumulative values\n",
        "        cum_val = [a[0]]\n",
        "        for j in range(1,len(a)):\n",
        "            cum_val.append( cum_val[j-1] + a[j] )\n",
        "\n",
        "        # trick to make them all visible: Plot in descending order of their height!! :) \n",
        "        for i in range(len(sorted_order_for_stacking)-1,-1,-1):\n",
        "            plt.bar(first_offset + week_num*5 + state_num*width*1.5, height=cum_val[i] , width=width, color=c_map_vertical[state][i])\n",
        "\n",
        "# plt.bar(x1,height=[2,3,4,6] , width=width)\n",
        "\n",
        "plt.show()"
      ],
      "execution_count": 50,
      "outputs": [
        {
          "output_type": "display_data",
          "data": {
            "image/png": "[encoded data removed]",
            "text/plain": [
              "<Figure size 432x288 with 1 Axes>"
            ]
          },
          "metadata": {
            "tags": [],
            "needs_background": "light"
          }
        }
      ]
    },
    {
      "cell_type": "code",
      "metadata": {
        "id": "BS_oKSXg3-IV",
        "colab_type": "code",
        "colab": {}
      },
      "source": [
        ""
      ],
      "execution_count": null,
      "outputs": []
    }
  ]
}